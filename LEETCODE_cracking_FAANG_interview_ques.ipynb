{
 "cells": [
  {
   "cell_type": "markdown",
   "id": "414ef710-6a11-4a5d-aa2b-6b09a2571e25",
   "metadata": {},
   "source": [
    "**Ques-1.) Find the missing number in an array between 1 to 100:**"
   ]
  },
  {
   "cell_type": "code",
   "execution_count": 6,
   "id": "3acf5737-cb70-42e8-bde9-dca59c30b184",
   "metadata": {},
   "outputs": [
    {
     "data": {
      "text/plain": [
       "array([1, 2, 3, 4, 6])"
      ]
     },
     "execution_count": 6,
     "metadata": {},
     "output_type": "execute_result"
    }
   ],
   "source": [
    "import numpy as np \n",
    "array = np.array((1, 2, 3, 4, 6))\n",
    "array"
   ]
  },
  {
   "cell_type": "markdown",
   "id": "b83d422b-cca9-4016-9ac4-cc07c3992856",
   "metadata": {},
   "source": [
    "**Solution 1:**"
   ]
  },
  {
   "cell_type": "code",
   "execution_count": 7,
   "id": "3e6dc4b5-dbc9-466f-8c18-50c0e2c1d3f1",
   "metadata": {},
   "outputs": [
    {
     "name": "stdout",
     "output_type": "stream",
     "text": [
      "5\n"
     ]
    }
   ],
   "source": [
    "def missing_number1(ary):\n",
    "    for i in range(len(ary)):\n",
    "        if ary[i - 1] == ary[i] - 2:\n",
    "            print(ary[i -1] + 1)\n",
    "missing_number1(array)"
   ]
  },
  {
   "cell_type": "markdown",
   "id": "5ca8026e-df64-47e2-adc4-996bdf9b9b9b",
   "metadata": {},
   "source": [
    "**Solution 2:**"
   ]
  },
  {
   "cell_type": "code",
   "execution_count": 8,
   "id": "6dcf2040-a460-498a-8bdd-ec7bb0215656",
   "metadata": {},
   "outputs": [
    {
     "data": {
      "text/plain": [
       "array([1, 2, 3, 4, 6])"
      ]
     },
     "execution_count": 8,
     "metadata": {},
     "output_type": "execute_result"
    }
   ],
   "source": [
    "def missing_number2(ary, n):\n",
    "    # n = last number of the array\n",
    "    total = n * (n + 1) // 2\n",
    "    sum_ary = sum(ary)\n",
    "    miss_num = total - sum_ary\n",
    "    return miss_num\n",
    "array"
   ]
  },
  {
   "cell_type": "code",
   "execution_count": 9,
   "id": "99cd83c2-fae9-49d0-89f2-759b556ba733",
   "metadata": {},
   "outputs": [
    {
     "data": {
      "text/plain": [
       "5"
      ]
     },
     "execution_count": 9,
     "metadata": {},
     "output_type": "execute_result"
    }
   ],
   "source": [
    "missing_number2(array, 6)"
   ]
  },
  {
   "cell_type": "markdown",
   "id": "918b32f9-bbe2-414b-81c1-055651777f54",
   "metadata": {},
   "source": [
    "**Ques-2.) LeetCode 1: Two Pairs/Sum:**"
   ]
  },
  {
   "cell_type": "markdown",
   "id": "679203d5-cf3a-4c0f-bfec-6d49ffe47798",
   "metadata": {},
   "source": [
    "**Solution 1:**"
   ]
  },
  {
   "cell_type": "code",
   "execution_count": 10,
   "id": "fadeb038-3bb7-4d34-842d-1b237973cec9",
   "metadata": {},
   "outputs": [
    {
     "data": {
      "text/plain": [
       "[1, 2, 3, 2, 3, 4, 5, 6]"
      ]
     },
     "execution_count": 10,
     "metadata": {},
     "output_type": "execute_result"
    }
   ],
   "source": [
    "def find_pairs(ary, target):\n",
    "    for i in range(len(ary)): \n",
    "        for j in range(i+1, len(ary)):\n",
    "            if ary[i] == ary[j]: \n",
    "                continue\n",
    "            elif ary[i] + ary[j] == target:\n",
    "                print(i, j)\n",
    "my_list = [1, 2, 3, 2, 3, 4, 5, 6]\n",
    "my_list"
   ]
  },
  {
   "cell_type": "code",
   "execution_count": 11,
   "id": "078a6a69-d8a8-4066-84ad-843035574f7d",
   "metadata": {},
   "outputs": [
    {
     "name": "stdout",
     "output_type": "stream",
     "text": [
      "0 6\n",
      "1 5\n",
      "3 5\n"
     ]
    }
   ],
   "source": [
    "indices = find_pairs(my_list, 6)\n",
    "indices"
   ]
  },
  {
   "cell_type": "markdown",
   "id": "699a4b3d-cf00-42b5-a251-aa3c2a638338",
   "metadata": {},
   "source": [
    "**Solution 2:**"
   ]
  },
  {
   "cell_type": "code",
   "execution_count": 12,
   "id": "64831864-0fe5-47e7-81cc-cf658c3cecbc",
   "metadata": {},
   "outputs": [],
   "source": [
    "def two_sum(nums, target):\n",
    "    seen = {}\n",
    "    for i, num in enumerate(nums):\n",
    "        complement = target - num\n",
    "        if complement in seen: \n",
    "            return [seen[complement], i]\n",
    "        seen[num] = i"
   ]
  },
  {
   "cell_type": "code",
   "execution_count": 13,
   "id": "88b65413-a5fc-4da1-8424-7b737fceafe0",
   "metadata": {},
   "outputs": [
    {
     "data": {
      "text/plain": [
       "[0, 1]"
      ]
     },
     "execution_count": 13,
     "metadata": {},
     "output_type": "execute_result"
    }
   ],
   "source": [
    "numbers = [2,7,11,15]\n",
    "two_sum(numbers, 9)"
   ]
  },
  {
   "cell_type": "markdown",
   "id": "b1aed58e-47b1-48e0-b0cd-981fd43b713b",
   "metadata": {},
   "source": [
    "**Ques-3.) Max Product in an array:**"
   ]
  },
  {
   "cell_type": "markdown",
   "id": "b374fa96-a271-43bf-9422-82f16f63f8ca",
   "metadata": {},
   "source": [
    "**Solution 1:**"
   ]
  },
  {
   "cell_type": "code",
   "execution_count": 14,
   "id": "9c03664c-60cd-4668-af81-1cbc68a5103a",
   "metadata": {},
   "outputs": [
    {
     "data": {
      "text/plain": [
       "30"
      ]
     },
     "execution_count": 14,
     "metadata": {},
     "output_type": "execute_result"
    }
   ],
   "source": [
    "def max_product(ary):\n",
    "    ary.sort(reverse = True)\n",
    "    return ary[0]*ary[1]\n",
    "max_product(numbers)\n",
    "max_product(my_list)"
   ]
  },
  {
   "cell_type": "markdown",
   "id": "a9c9efa1-f08f-4fd4-8de2-c55b75978d71",
   "metadata": {},
   "source": [
    "**Solution 2:**"
   ]
  },
  {
   "cell_type": "code",
   "execution_count": 15,
   "id": "9f2c4679-828b-431f-b40d-6a0246683c82",
   "metadata": {},
   "outputs": [
    {
     "data": {
      "text/plain": [
       "30"
      ]
     },
     "execution_count": 15,
     "metadata": {},
     "output_type": "execute_result"
    }
   ],
   "source": [
    "def maximum_product(ary):\n",
    "    max1 = 0\n",
    "    max2 = 0\n",
    "    for num in ary: \n",
    "        if num > max1:\n",
    "            max2 = max1\n",
    "            max1 = num\n",
    "        elif num > max2:\n",
    "            max2 = num\n",
    "    return max1 * max2\n",
    "maximum_product(my_list)"
   ]
  },
  {
   "cell_type": "markdown",
   "id": "ea598f1f-8e8d-461f-9be1-584a08032c04",
   "metadata": {},
   "source": [
    "**Ques-4.) Sum of fiagonal of a matrix:**"
   ]
  },
  {
   "cell_type": "code",
   "execution_count": 16,
   "id": "e68ef09c-576b-4761-902b-cabf7f7e6bc6",
   "metadata": {},
   "outputs": [],
   "source": [
    "myList2D= [[1,2,3],[4,5,6],[7,8,9]] "
   ]
  },
  {
   "cell_type": "markdown",
   "id": "e41d3ab1-1691-49ec-9795-943ed9a3bb33",
   "metadata": {},
   "source": [
    "**Solution:**"
   ]
  },
  {
   "cell_type": "code",
   "execution_count": 17,
   "id": "6268e9fe-6276-4e34-9a1e-b85153ff483b",
   "metadata": {},
   "outputs": [
    {
     "data": {
      "text/plain": [
       "15"
      ]
     },
     "execution_count": 17,
     "metadata": {},
     "output_type": "execute_result"
    }
   ],
   "source": [
    "def diagonal_sum(matrix): \n",
    "    total = 0\n",
    "    for i in range(len(matrix)): \n",
    "        total += matrix[i][i]\n",
    "    return total\n",
    "diagonal_sum(myList2D)"
   ]
  },
  {
   "cell_type": "markdown",
   "id": "9381d4af-d48f-49a7-9f44-c48eddda168d",
   "metadata": {},
   "source": [
    "**Ques-5.) Top Two scores:**"
   ]
  },
  {
   "cell_type": "code",
   "execution_count": 18,
   "id": "336ec008-b98f-47e8-bd9e-afc0cf0d8d46",
   "metadata": {},
   "outputs": [],
   "source": [
    "myList3 = [84,85,86,87,85,90,85,83,23,45,84,1,2,0]"
   ]
  },
  {
   "cell_type": "markdown",
   "id": "adc9c8af-3776-497b-aabe-980d92d984c3",
   "metadata": {},
   "source": [
    "**Solution:**"
   ]
  },
  {
   "cell_type": "code",
   "execution_count": 19,
   "id": "bd916ecc-13ec-4158-955d-6e1c83812270",
   "metadata": {},
   "outputs": [
    {
     "data": {
      "text/plain": [
       "(90, 87)"
      ]
     },
     "execution_count": 19,
     "metadata": {},
     "output_type": "execute_result"
    }
   ],
   "source": [
    "def top_two_scores(ary): \n",
    "    ary.sort(reverse = True)\n",
    "    return ary[0], ary[1]\n",
    "top_two_scores(myList3)"
   ]
  },
  {
   "cell_type": "markdown",
   "id": "4c3b2c3a-4362-4165-a690-e535bf7da9f2",
   "metadata": {},
   "source": [
    "**Ques-6.) Remove Duplicates:**"
   ]
  },
  {
   "cell_type": "code",
   "execution_count": 20,
   "id": "7862d5df-fc87-4687-ad63-3dc1e737a6b4",
   "metadata": {},
   "outputs": [
    {
     "data": {
      "text/plain": [
       "[1, 1, 2, 2, 3, 4, 5]"
      ]
     },
     "execution_count": 20,
     "metadata": {},
     "output_type": "execute_result"
    }
   ],
   "source": [
    "duplicates = [1, 1, 2, 2, 3, 4, 5]\n",
    "duplicates"
   ]
  },
  {
   "cell_type": "markdown",
   "id": "55679380-e992-4bec-b89c-ad063b2ecc06",
   "metadata": {},
   "source": [
    "**Solution:**"
   ]
  },
  {
   "cell_type": "code",
   "execution_count": 21,
   "id": "e4f438b6-3e05-47f6-bf54-d8a8cca63b52",
   "metadata": {},
   "outputs": [
    {
     "data": {
      "text/plain": [
       "[1, 2, 3, 4, 5]"
      ]
     },
     "execution_count": 21,
     "metadata": {},
     "output_type": "execute_result"
    }
   ],
   "source": [
    "def remove_duplicates(arry): \n",
    "    unq_lst = []\n",
    "    seen = set()\n",
    "    for item in arry: \n",
    "        if item not in seen: \n",
    "            unq_lst.append(item)\n",
    "            seen.add(item)\n",
    "    return unq_lst\n",
    "remove_duplicates(duplicates)"
   ]
  },
  {
   "cell_type": "markdown",
   "id": "49b20e30-1872-455e-a14c-61ea1fff425d",
   "metadata": {},
   "source": [
    "**Ques-7.) Pair numbers:**"
   ]
  },
  {
   "cell_type": "markdown",
   "id": "b05da1fc-d1ad-49e4-9721-519b7d8d511d",
   "metadata": {},
   "source": [
    "**Solution:**"
   ]
  },
  {
   "cell_type": "code",
   "execution_count": 22,
   "id": "fb7df604-3bea-471a-8787-11c468e74c31",
   "metadata": {},
   "outputs": [],
   "source": [
    "pair_numbers = [2, 4, 3, 5, 6, -2, 4, 7, 8, 9]"
   ]
  },
  {
   "cell_type": "code",
   "execution_count": 23,
   "id": "f3d24dda-c959-4f21-80fd-5f3182d8a3ca",
   "metadata": {},
   "outputs": [
    {
     "data": {
      "text/plain": [
       "['2+5', '4+3', '3+4', '-2+9']"
      ]
     },
     "execution_count": 23,
     "metadata": {},
     "output_type": "execute_result"
    }
   ],
   "source": [
    "def find_pairs(ary, target):\n",
    "    output = []\n",
    "    seen = set()\n",
    "    for i in range(len(ary)): \n",
    "        for j in range(i+1, len(ary)): \n",
    "            if ary[i] + ary[j] == target not in seen: \n",
    "                output.append(f\"{ary[i]}+{ary[j]}\")\n",
    "                seen.add(f\"{ary[i]}+{ary[j]}\")\n",
    "    return output\n",
    "find_pairs(pair_numbers, 7)"
   ]
  },
  {
   "cell_type": "markdown",
   "id": "eb981947-6517-4228-b277-0b75a4073b5e",
   "metadata": {},
   "source": [
    "**Ques-8.) Is duplicates:**"
   ]
  },
  {
   "cell_type": "markdown",
   "id": "00909bc4-f2c2-4c11-8491-68a51f9af1cc",
   "metadata": {},
   "source": [
    "**Solution:**"
   ]
  },
  {
   "cell_type": "code",
   "execution_count": 25,
   "id": "0db9c269-ace4-4b28-85cb-5d8d9c9943c2",
   "metadata": {},
   "outputs": [
    {
     "data": {
      "text/plain": [
       "False"
      ]
     },
     "execution_count": 25,
     "metadata": {},
     "output_type": "execute_result"
    }
   ],
   "source": [
    "nums = [1, 2, 3, 4, 5, 6, 7, 8, 9]\n",
    "def is_duplicates(ary): \n",
    "    seen = set()\n",
    "    for item in ary: \n",
    "        if item in seen: \n",
    "            return True\n",
    "        seen.add(item)\n",
    "    return False\n",
    "is_duplicates(nums)"
   ]
  },
  {
   "cell_type": "markdown",
   "id": "a8b20dbd-d774-45eb-b2a4-0144974b18a3",
   "metadata": {},
   "source": [
    "**Ques-9.) Is Permutation:**"
   ]
  },
  {
   "cell_type": "markdown",
   "id": "40a9fde9-d494-45dd-9ed1-53299085f0a0",
   "metadata": {},
   "source": [
    "**Solution:**"
   ]
  },
  {
   "cell_type": "code",
   "execution_count": 2,
   "id": "80da4180-4571-4ca3-8569-29f55de853ec",
   "metadata": {},
   "outputs": [
    {
     "data": {
      "text/plain": [
       "True"
      ]
     },
     "execution_count": 2,
     "metadata": {},
     "output_type": "execute_result"
    }
   ],
   "source": [
    "def is_permutation(list1, list2): \n",
    "    if len(list1) != len(list2): \n",
    "        return False\n",
    "    list1.sort()\n",
    "    list2.sort()\n",
    "    if list1 == list2: \n",
    "        return True\n",
    "    else: \n",
    "        return False\n",
    "list_a = ['a', 'c', 'b']\n",
    "list_b = ['b', 'a', 'c']\n",
    "is_permutation(list_a, list_b)"
   ]
  },
  {
   "cell_type": "markdown",
   "id": "4626a02a-8e71-4239-bbfa-879be33e887d",
   "metadata": {},
   "source": [
    "**Ques-10.) Rotate a Matrix(90' clockwise)  : [ LEETCODE ]**"
   ]
  },
  {
   "cell_type": "markdown",
   "id": "1ac12cde-f48e-4174-bc52-4a9edbd34dd8",
   "metadata": {},
   "source": [
    "**Solution:**"
   ]
  },
  {
   "cell_type": "code",
   "execution_count": 13,
   "id": "fbbe7ca3-49ff-4a22-adf6-2359cae78f82",
   "metadata": {},
   "outputs": [],
   "source": [
    "def rotate_matrix(mat): \n",
    "    n = len(mat)\n",
    "    for i in range(n): \n",
    "        for j in range(i, n): \n",
    "            mat[i][j], mat[j][i] = mat[j][i], mat[i][j] \n",
    "    for row in mat: \n",
    "        row.reverse()\n"
   ]
  },
  {
   "cell_type": "code",
   "execution_count": null,
   "id": "7d4dedec-387e-451e-9b4f-f3573d8f19eb",
   "metadata": {},
   "outputs": [],
   "source": []
  }
 ],
 "metadata": {
  "kernelspec": {
   "display_name": "Python 3 (ipykernel)",
   "language": "python",
   "name": "python3"
  },
  "language_info": {
   "codemirror_mode": {
    "name": "ipython",
    "version": 3
   },
   "file_extension": ".py",
   "mimetype": "text/x-python",
   "name": "python",
   "nbconvert_exporter": "python",
   "pygments_lexer": "ipython3",
   "version": "3.10.4"
  }
 },
 "nbformat": 4,
 "nbformat_minor": 5
}
